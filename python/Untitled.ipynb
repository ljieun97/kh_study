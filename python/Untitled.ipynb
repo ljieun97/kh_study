{
 "cells": [
  {
   "cell_type": "code",
   "execution_count": 1,
   "id": "a06f678f",
   "metadata": {},
   "outputs": [],
   "source": [
    "#파이썬 어쩌구"
   ]
  },
  {
   "cell_type": "code",
   "execution_count": 2,
   "id": "3ed03443",
   "metadata": {},
   "outputs": [
    {
     "name": "stdout",
     "output_type": "stream",
     "text": [
      "hello\n"
     ]
    }
   ],
   "source": [
    "print (\"hello\")"
   ]
  },
  {
   "cell_type": "code",
   "execution_count": 7,
   "id": "f0313fb5",
   "metadata": {},
   "outputs": [
    {
     "name": "stdout",
     "output_type": "stream",
     "text": [
      "dndndn\n"
     ]
    }
   ],
   "source": [
    "print('dndndn')"
   ]
  },
  {
   "cell_type": "code",
   "execution_count": 8,
   "id": "3b7973cf",
   "metadata": {},
   "outputs": [],
   "source": [
    "#어어"
   ]
  },
  {
   "cell_type": "code",
   "execution_count": 9,
   "id": "445c6274",
   "metadata": {
    "scrolled": true
   },
   "outputs": [
    {
     "name": "stdout",
     "output_type": "stream",
     "text": [
      "1 10\n"
     ]
    }
   ],
   "source": [
    "num = 1\n",
    "Num = 10\n",
    "print(num, Num)"
   ]
  },
  {
   "cell_type": "code",
   "execution_count": 10,
   "id": "64954d35",
   "metadata": {},
   "outputs": [
    {
     "ename": "NameError",
     "evalue": "name 'dd' is not defined",
     "output_type": "error",
     "traceback": [
      "\u001b[0;31m---------------------------------------------------------------------------\u001b[0m",
      "\u001b[0;31mNameError\u001b[0m                                 Traceback (most recent call last)",
      "Input \u001b[0;32mIn [10]\u001b[0m, in \u001b[0;36m<cell line: 1>\u001b[0;34m()\u001b[0m\n\u001b[0;32m----> 1\u001b[0m \u001b[43mdd\u001b[49m\n",
      "\u001b[0;31mNameError\u001b[0m: name 'dd' is not defined"
     ]
    }
   ],
   "source": [
    "dd"
   ]
  },
  {
   "cell_type": "code",
   "execution_count": 11,
   "id": "e6d9e12c",
   "metadata": {},
   "outputs": [],
   "source": [
    "str1 = \"pointer\""
   ]
  },
  {
   "cell_type": "code",
   "execution_count": 13,
   "id": "100450ba",
   "metadata": {
    "scrolled": true
   },
   "outputs": [
    {
     "name": "stdout",
     "output_type": "stream",
     "text": [
      "pnr\n"
     ]
    }
   ],
   "source": [
    "str1 = \"pointer\"\n",
    "print(str1[::3])\n"
   ]
  },
  {
   "cell_type": "code",
   "execution_count": 19,
   "id": "a3606140",
   "metadata": {},
   "outputs": [
    {
     "name": "stdout",
     "output_type": "stream",
     "text": [
      "red\n",
      "('apple', 'green')\n",
      "('banana', 'yellow')\n",
      "('cherry', 'red')\n",
      "apple green\n",
      "banana yellow\n",
      "cherry red\n",
      "apple\n",
      "banana\n",
      "cherry\n",
      "green\n",
      "yellow\n",
      "red\n",
      "<class 'dict_keys'>\n",
      "['apple', 'banana', 'cherry']\n"
     ]
    }
   ],
   "source": [
    "color = {\"apple\" : \"red\", \"banana\" : \"yellow\"}\n",
    "print(color[\"apple\"])\n",
    "color[\"cherry\"] = \"red\"\n",
    "color[\"apple\"] = \"green\"\n",
    "for c in color.items() : print(c)\n",
    "for k, v in color.items() : print(k, v)\n",
    "for k in color.keys() : print(k)\n",
    "for v in color.values() : print(v)\n",
    "print(type(color.keys()))\n",
    "print(list(color.keys()))\n"
   ]
  },
  {
   "cell_type": "code",
   "execution_count": 21,
   "id": "5f4e096c",
   "metadata": {},
   "outputs": [
    {
     "name": "stdout",
     "output_type": "stream",
     "text": [
      "val은 5보다 크다\n"
     ]
    }
   ],
   "source": [
    "val = 10\n",
    "if val > 5:\n",
    "    print(\"val은 5보다 크다\")"
   ]
  },
  {
   "cell_type": "markdown",
   "id": "6d3634ac",
   "metadata": {},
   "source": [
    "money = 10\n",
    "if money > 100:\n",
    "    item = \"apple\"\n",
    "else: \n",
    "    item = \"banana\"\n",
    "print(item)"
   ]
  },
  {
   "cell_type": "code",
   "execution_count": 22,
   "id": "9b378431",
   "metadata": {},
   "outputs": [
    {
     "name": "stdout",
     "output_type": "stream",
     "text": [
      "banana\n"
     ]
    }
   ],
   "source": [
    "money = 10 \n",
    "if money > 100: \n",
    "    item = \"apple\" \n",
    "else: \n",
    "    item = \"banana\" \n",
    "print(item)"
   ]
  },
  {
   "cell_type": "code",
   "execution_count": 24,
   "id": "2f39c9bd",
   "metadata": {},
   "outputs": [
    {
     "name": "stdout",
     "output_type": "stream",
     "text": [
      "점수를 입력하시오: 70\n",
      "등급: C\n"
     ]
    }
   ],
   "source": [
    "score = int(input(('점수를 입력하시오: ')))\n",
    "if 90 <= score <= 100:\n",
    "    grade = \"A\"\n",
    "elif 80 <= score < 90:\n",
    "    grade = \"B\"\n",
    "elif 70 <= score < 80:\n",
    "    grade = \"C\"\n",
    "elif 60 <= score < 70:\n",
    "    grade = \"D\"\n",
    "else:\n",
    "    grade = \"F\"\n",
    "print(\"등급: \" + grade)"
   ]
  },
  {
   "cell_type": "code",
   "execution_count": 25,
   "id": "61f467e3",
   "metadata": {},
   "outputs": [
    {
     "name": "stdout",
     "output_type": "stream",
     "text": [
      "아이템: 1\n",
      "아이템: 2\n",
      "아이템: 3\n",
      "아이템: 4\n",
      "아이템: 5\n"
     ]
    }
   ],
   "source": [
    "numList = [1, 2, 3, 4, 5, 6, 7, 8, 9, 10]\n",
    "for i in numList:\n",
    "    if i>5:\n",
    "        break\n",
    "    print(\"아이템: {0}\".format(i))"
   ]
  },
  {
   "cell_type": "code",
   "execution_count": 27,
   "id": "d11830ea",
   "metadata": {},
   "outputs": [
    {
     "name": "stdout",
     "output_type": "stream",
     "text": [
      "아이템: 2, 4\n",
      "아이템: 4, 8\n",
      "아이템: 6, 12\n",
      "아이템: 8, 16\n",
      "아이템: 10, 20\n"
     ]
    }
   ],
   "source": [
    "numList = [1, 2, 3, 4, 5, 6, 7, 8, 9, 10]\n",
    "for i in numList:\n",
    "    if i%2:\n",
    "        continue\n",
    "    print(\"아이템: {0}, {1}\".format(i, i*2))"
   ]
  },
  {
   "cell_type": "code",
   "execution_count": 32,
   "id": "a56d0231",
   "metadata": {},
   "outputs": [
    {
     "name": "stdout",
     "output_type": "stream",
     "text": [
      "[0, 1, 2, 3, 4, 5, 6, 7, 8, 9]\n",
      "[5, 6, 7, 8, 9]\n",
      "[10, 9, 8, 7, 6, 5, 4, 3, 2, 1]\n",
      "[10, 12, 14, 16, 18]\n",
      "10\n",
      "12\n",
      "14\n",
      "16\n",
      "18\n"
     ]
    }
   ],
   "source": [
    "print(list(range(10)))\n",
    "print(list(range(5, 10)))\n",
    "print(list(range(10, 0, -1)))\n",
    "print(list(range(10, 20, 2)))\n",
    "for i in range(10, 20, 2):\n",
    "    print(i)"
   ]
  },
  {
   "cell_type": "code",
   "execution_count": 37,
   "id": "b81d52d2",
   "metadata": {},
   "outputs": [
    {
     "name": "stdout",
     "output_type": "stream",
     "text": [
      "[5, 6, 6]\n",
      "['Orange', 'Banana']\n",
      "인덱스: 0, 값: Apple\n",
      "인덱스: 1, 값: Orange\n",
      "인덱스: 2, 값: Banana\n"
     ]
    }
   ],
   "source": [
    "strList = ['Apple', 'Orange', 'Banana']\n",
    "print([len(i) for i in strList])\n",
    "print([i for i in strList if len(i) > 5])\n",
    "for i in range(len(strList)):\n",
    "    print(\"인덱스: {0}, 값: {1}\".format(i, strList[i]))"
   ]
  },
  {
   "cell_type": "code",
   "execution_count": 35,
   "id": "011b6272",
   "metadata": {},
   "outputs": [
    {
     "name": "stdout",
     "output_type": "stream",
     "text": [
      "[1, 4, 9, 16, 25]\n"
     ]
    }
   ],
   "source": [
    "numList = list(range(1, 6))\n",
    "print([i**2 for i in numList])"
   ]
  },
  {
   "cell_type": "code",
   "execution_count": 39,
   "id": "3d9181b2",
   "metadata": {},
   "outputs": [
    {
     "name": "stdout",
     "output_type": "stream",
     "text": [
      "결과: 25\n",
      "결과: 30\n",
      "결과: 25\n",
      "결과: 30\n"
     ]
    }
   ],
   "source": [
    "numList = [10, 25, 30]\n",
    "def get_bigger_than20(i): #클래스 없이 매서드 만드는 기능\n",
    "    return i>20\n",
    "iterList = filter(get_bigger_than20, numList)\n",
    "for i in iterList:\n",
    "    print(\"결과: {0}\".format(i))\n",
    "iterList = filter(lambda i: i>20, numList)\n",
    "for i in iterList:\n",
    "    print(\"결과: {0}\".format(i))"
   ]
  },
  {
   "cell_type": "code",
   "execution_count": 41,
   "id": "8f173ce3",
   "metadata": {},
   "outputs": [
    {
     "name": "stdout",
     "output_type": "stream",
     "text": [
      "결과: 11\n",
      "결과: 12\n",
      "결과: 13\n",
      "[11, 12, 13]\n"
     ]
    }
   ],
   "source": [
    "numList = [1, 2, 3]\n",
    "def add10(i):\n",
    "    return i+10\n",
    "for i in map(add10, numList):\n",
    "    print(\"결과: {0}\".format(i))\n",
    "retList = list(map((lambda i: i+10), numList))\n",
    "print(retList)"
   ]
  },
  {
   "cell_type": "code",
   "execution_count": null,
   "id": "47c05661",
   "metadata": {},
   "outputs": [],
   "source": []
  }
 ],
 "metadata": {
  "kernelspec": {
   "display_name": "Python 3 (ipykernel)",
   "language": "python",
   "name": "python3"
  },
  "language_info": {
   "codemirror_mode": {
    "name": "ipython",
    "version": 3
   },
   "file_extension": ".py",
   "mimetype": "text/x-python",
   "name": "python",
   "nbconvert_exporter": "python",
   "pygments_lexer": "ipython3",
   "version": "3.9.12"
  }
 },
 "nbformat": 4,
 "nbformat_minor": 5
}
