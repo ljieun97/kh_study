{
 "cells": [
  {
   "cell_type": "code",
   "execution_count": 2,
   "id": "d4e901d2",
   "metadata": {},
   "outputs": [
    {
     "name": "stdout",
     "output_type": "stream",
     "text": [
      "<function times at 0x7fe238372940>\n",
      "20\n"
     ]
    }
   ],
   "source": [
    "def times(a, b):\n",
    "    return a*b\n",
    "print (times) #나오는 결과는 객체(메서드)의 메모리 주소값\n",
    "print (times(10, 2))"
   ]
  },
  {
   "cell_type": "code",
   "execution_count": 5,
   "id": "a3108570",
   "metadata": {},
   "outputs": [
    {
     "name": "stdout",
     "output_type": "stream",
     "text": [
      "100\n"
     ]
    }
   ],
   "source": [
    "pointerOfFunction = times\n",
    "res = pointerOfFunction(10, 10)\n",
    "print(res)"
   ]
  },
  {
   "cell_type": "code",
   "execution_count": 8,
   "id": "62ee1404",
   "metadata": {},
   "outputs": [
    {
     "name": "stdout",
     "output_type": "stream",
     "text": [
      "['p', 'p', 'e']\n",
      "['A']\n"
     ]
    }
   ],
   "source": [
    "def intersect(preList, postList):\n",
    "    retList = []\n",
    "    for x in preList:\n",
    "        if x in postList:\n",
    "            retList.append(x)\n",
    "    return retList\n",
    "\n",
    "list1 = \"Apple\"\n",
    "list2 = \"grape\"\n",
    "\n",
    "print(intersect(list1, list2))\n",
    "print(intersect(list1, ['H', 'A', 'M']))"
   ]
  },
  {
   "cell_type": "code",
   "execution_count": 10,
   "id": "cfe01e0e",
   "metadata": {},
   "outputs": [
    {
     "name": "stdout",
     "output_type": "stream",
     "text": [
      "(7, 3)\n",
      "77\n",
      "33\n",
      "(777, 333)\n",
      "<class 'tuple'>\n"
     ]
    }
   ],
   "source": [
    "def swap(x, y):\n",
    "    return y, x\n",
    "a, b = swap(33, 77)\n",
    "x = swap(333, 777)\n",
    "print(swap(3, 7))\n",
    "print(a)\n",
    "print(b)\n",
    "print(x)\n",
    "print(type(x))"
   ]
  },
  {
   "cell_type": "code",
   "execution_count": 11,
   "id": "abc2315f",
   "metadata": {},
   "outputs": [
    {
     "name": "stdout",
     "output_type": "stream",
     "text": [
      "11\n",
      "10\n"
     ]
    }
   ],
   "source": [
    "x = 10\n",
    "def sum_test(x, y):\n",
    "    x = 1\n",
    "    return x + y\n",
    "\n",
    "print(sum_test(x, x))\n",
    "print(x)"
   ]
  },
  {
   "cell_type": "code",
   "execution_count": 13,
   "id": "01593b9d",
   "metadata": {},
   "outputs": [
    {
     "name": "stdout",
     "output_type": "stream",
     "text": [
      "['J', 'A', 'M']\n",
      "['J', 'A', 'M']\n"
     ]
    }
   ],
   "source": [
    "def change(x):\n",
    "    #다음과 같이 복사하면 다른 메모리 주소를 참조하는 객체가 만들어짐\n",
    "    x = x[:]\n",
    "    x[0] = 'H'\n",
    "\n",
    "wordList = ['J', 'A', 'M']\n",
    "print(wordList)\n",
    "change(wordList)\n",
    "print(wordList)"
   ]
  },
  {
   "cell_type": "code",
   "execution_count": 14,
   "id": "5735a47a",
   "metadata": {},
   "outputs": [
    {
     "name": "stdout",
     "output_type": "stream",
     "text": [
      "1\n",
      "10\n",
      "7\n"
     ]
    }
   ],
   "source": [
    "num = 1\n",
    "print(num)\n",
    "\n",
    "def globScope(x):\n",
    "    global num\n",
    "    num = 7\n",
    "    return num + x\n",
    "\n",
    "print(globScope(3))\n",
    "print(num)"
   ]
  },
  {
   "cell_type": "code",
   "execution_count": 16,
   "id": "304bb440",
   "metadata": {},
   "outputs": [
    {
     "name": "stdout",
     "output_type": "stream",
     "text": [
      "6\n",
      "9\n"
     ]
    }
   ],
   "source": [
    "g = lambda x, y: x * y\n",
    "print(g(2, 3))\n",
    "print((lambda x: x * x)(3))"
   ]
  },
  {
   "cell_type": "code",
   "execution_count": 23,
   "id": "a7af692a",
   "metadata": {},
   "outputs": [
    {
     "name": "stdout",
     "output_type": "stream",
     "text": [
      "9\n",
      "True\n",
      "220513.ipynb   Untitled.ipynb test.txt\n",
      "Jieun\n",
      "wow"
     ]
    }
   ],
   "source": [
    "# 파일 I/O\n",
    "f = open('test.txt', 'w') #'w'쓰기모드, 디폴트\n",
    "print(f.write('Jieun\\nwow'))\n",
    "f.close() #opne-close 함께 사용\n",
    "print(f.closed)\n",
    "!ls\n",
    "!cat test.txt"
   ]
  },
  {
   "cell_type": "code",
   "execution_count": 24,
   "id": "2e195ca1",
   "metadata": {},
   "outputs": [
    {
     "name": "stdout",
     "output_type": "stream",
     "text": [
      "['Jieun\\n', 'wow']\n",
      "False\n",
      "True\n"
     ]
    }
   ],
   "source": [
    "with open('test.txt') as f: #with의 스코프 안에서만 파일이 열림\n",
    "    print(f.readlines())\n",
    "    print(f.closed)\n",
    "print(f.closed)"
   ]
  },
  {
   "cell_type": "code",
   "execution_count": 32,
   "id": "353f0a5a",
   "metadata": {},
   "outputs": [
    {
     "name": "stdout",
     "output_type": "stream",
     "text": [
      "['red', 'green', 'blue']\n",
      "Ture\n",
      "False\n",
      "['red', 'green', 'blue']\n",
      "Ture\n"
     ]
    }
   ],
   "source": [
    "import pickle\n",
    "colors = ['red', 'green', 'blue']\n",
    "print(colors)\n",
    "\n",
    "def check_colors():\n",
    "    if 'colors' in globals(): #전역 데이터에서 'colors' 찾기\n",
    "        print('Ture')\n",
    "    else:\n",
    "        print('False')\n",
    "\n",
    "#정보 저장\n",
    "f = open('colors', 'wb') #writebyte 문자가 아닌 데이터 쓰기모드\n",
    "pickle.dump(colors, f) #객체 자체를 저장하는 녀석 - colors리스트를 f('colors')에 저장\n",
    "f.close()\n",
    "check_colors()\n",
    "\n",
    "#정보 삭제\n",
    "del colors\n",
    "check_colors()\n",
    "\n",
    "#정보 복원\n",
    "f = open('colors', 'rb') #readbyte 문자가 아닌 데이터 읽기모드\n",
    "colors = pickle.load(f)\n",
    "f.close()\n",
    "print(colors)\n",
    "check_colors()"
   ]
  },
  {
   "cell_type": "code",
   "execution_count": 33,
   "id": "66333776",
   "metadata": {},
   "outputs": [
    {
     "data": {
      "text/plain": [
       "{'__name__': '__main__',\n",
       " '__doc__': 'Automatically created module for IPython interactive environment',\n",
       " '__package__': None,\n",
       " '__loader__': None,\n",
       " '__spec__': None,\n",
       " '__builtin__': <module 'builtins' (built-in)>,\n",
       " '__builtins__': <module 'builtins' (built-in)>,\n",
       " '_ih': ['',\n",
       "  'def times(a, b):\\n    return a*b\\nprint (times)',\n",
       "  'def times(a, b):\\n    return a*b\\nprint (times)\\nprint (times(10, 2))',\n",
       "  'print(times)',\n",
       "  'pointerOfFunction = times\\nres = pointerOfFunction(10, 10)\\nprint(res)',\n",
       "  'pointerOfFunction = times\\nres = pointerOfFunction(10, 10)\\nprint(res)',\n",
       "  'def intersect(preList, postList):\\n    retList = []\\n    for x in preList:\\n        if x in postList:\\n            reList.append(x)\\n    return retList\\n\\nlist1 = \"Apple\"\\nlist2 = \"grape\"\\n\\nprint(intersect(list1, list2))',\n",
       "  'def intersect(preList, postList):\\n    retList = []\\n    for x in preList:\\n        if x in postList:\\n            retList.append(x)\\n    return retList\\n\\nlist1 = \"Apple\"\\nlist2 = \"grape\"\\n\\nprint(intersect(list1, list2))',\n",
       "  'def intersect(preList, postList):\\n    retList = []\\n    for x in preList:\\n        if x in postList:\\n            retList.append(x)\\n    return retList\\n\\nlist1 = \"Apple\"\\nlist2 = \"grape\"\\n\\nprint(intersect(list1, list2))\\nprint(intersect(list1, [\\'H\\', \\'A\\', \\'M\\']))',\n",
       "  'def swap(x, y):\\n    return y, x\\nprint(swap(3, 7))',\n",
       "  'def swap(x, y):\\n    return y, x\\na, b = swap(33, 77)\\nx = swap(333, 777)\\nprint(swap(3, 7))\\nprint(a)\\nprint(b)\\nprint(x)\\nprint(type(x))',\n",
       "  'x = 10\\ndef sum_test(x, y):\\n    x = 1\\n    return x + y\\n\\nprint(sum_test(x, x))\\nprint(x)',\n",
       "  \"def change(x):\\n    x = x[:]\\n    x[0] = 'H'\\n\\nwordList = ['J', 'A', 'M']\\nprint(wordList)\\nchange(wordList)\\nprint(wordLlist)\",\n",
       "  \"def change(x):\\n    x = x[:]\\n    x[0] = 'H'\\n\\nwordList = ['J', 'A', 'M']\\nprint(wordList)\\nchange(wordList)\\nprint(wordList)\",\n",
       "  'num = 1\\nprint(num)\\n\\ndef globScope(x):\\n    global num\\n    num = 7\\n    return num + x\\n\\nprint(globScope(3))\\nprint(num)',\n",
       "  'g = lambda x, y: x * y\\nprint(g(2, 3))',\n",
       "  'g = lambda x, y: x * y\\nprint(g(2, 3))\\nprint((lambda x: x * x)(3))',\n",
       "  \"# 파일 I/O\\nf = open('test.txt', 'w')\\nprint(f.write('Jieun\\\\nwow'))\\nf.close()\\nget_ipython().system('ls')\",\n",
       "  \"# 파일 I/O\\nf = open('test.txt', 'w')\\nprint(f.write('Jieun\\\\nwow'))\\nf.close()\\nget_ipython().system('ls')\\nget_ipython().system('cat test')\",\n",
       "  \"# 파일 I/O\\nf = open('test.txt', 'w')\\nprint(f.write('Jieun\\\\nwow'))\\nf.close()\\nget_ipython().system('ls')\\nget_ipython().system('cat test.txt')\",\n",
       "  \"# 파일 I/O\\nf = open('test.txt', 'w') #'w'쓰기모드, 디폴트\\nprint(f.write('Jieun\\\\nwow'))\\nf.close() #opne-close 함께 사용\\nprint(f.closed)\\nget_ipython().system('ls')\\nget_ipython().system('cat test.txt')\",\n",
       "  \"# 파일 I/O\\nf = open('test.txt', 'w') #'w'쓰기모드, 디폴트\\nprint(f.write('Jieun\\\\nwow'))\\nf.close() #opne-close 함께 사용\\nprint(f.closed)\\nget_ipython().system('ls')\\nget_ipython().system('cat test.txt')\",\n",
       "  \"# 파일 I/O\\nf = open('test.txt', 'w') #'w'쓰기모드, 디폴트\\nprint(f.write('Jieun\\\\nwow'))\\nf.close() #opne-close 함께 사용\\nprint(f.closed)\",\n",
       "  \"# 파일 I/O\\nf = open('test.txt', 'w') #'w'쓰기모드, 디폴트\\nprint(f.write('Jieun\\\\nwow'))\\nf.close() #opne-close 함께 사용\\nprint(f.closed)\\nget_ipython().system('ls')\\nget_ipython().system('cat test.txt')\",\n",
       "  \"with open('test.txt') as f:\\n    print(f.readlines())\\n    print(f.closed)\\nprint(f.closed)\",\n",
       "  \"colors = ['red', 'green', 'blue']\\nprint(colors)\\n\\ndef check_colors():\\n    if 'colors' in globlas():\\n        print('Ture')\\n    else:\\n        print('False')\",\n",
       "  \"colors = ['red', 'green', 'blue']\\nprint(colors)\\n\\ndef check_colors():\\n    if 'colors' in globlas():\\n        print('Ture')\\n    else:\\n        print('False')\\n\\nf = open('colors', 'wb') #wb 문자가 아닌 데이터 쓰기모드\",\n",
       "  \"colors = ['red', 'green', 'blue']\\nprint(colors)\\n\\ndef check_colors():\\n    if 'colors' in globlas():\\n        print('Ture')\\n    else:\\n        print('False')\\n\\nf = open('colors', 'wb') #wb 문자가 아닌 데이터 쓰기모드\\npickle.dump(colors, f)\\nf.close()\\ncheck_colors()\",\n",
       "  \"import pickle\\ncolors = ['red', 'green', 'blue']\\nprint(colors)\\n\\ndef check_colors():\\n    if 'colors' in globlas():\\n        print('Ture')\\n    else:\\n        print('False')\\n\\nf = open('colors', 'wb') #wb 문자가 아닌 데이터 쓰기모드\\npickle.dump(colors, f)\\nf.close()\\ncheck_colors()\",\n",
       "  \"import pickle\\ncolors = ['red', 'green', 'blue']\\nprint(colors)\\n\\ndef check_colors():\\n    if 'colors' in globlss():\\n        print('Ture')\\n    else:\\n        print('False')\\n\\nf = open('colors', 'wb') #wb 문자가 아닌 데이터 쓰기모드\\npickle.dump(colors, f)\\nf.close()\\ncheck_colors()\",\n",
       "  \"import pickle\\ncolors = ['red', 'green', 'blue']\\nprint(colors)\\n\\ndef check_colors():\\n    if 'colors' in globals():\\n        print('Ture')\\n    else:\\n        print('False')\\n\\nf = open('colors', 'wb') #wb 문자가 아닌 데이터 쓰기모드\\npickle.dump(colors, f)\\nf.close()\\ncheck_colors()\",\n",
       "  \"import pickle\\ncolors = ['red', 'green', 'blue']\\nprint(colors)\\n\\ndef check_colors():\\n    if 'colors' in globals():\\n        print('Ture')\\n    else:\\n        print('False')\\n\\nf = open('colors', 'wb') #wb 문자가 아닌 데이터 쓰기모드\\npickle.dump(colors, f)\\nf.close()\\ncheck_colors()\\n\\ndel colors\\ncheck_colors()\",\n",
       "  \"import pickle\\ncolors = ['red', 'green', 'blue']\\nprint(colors)\\n\\ndef check_colors():\\n    if 'colors' in globals():\\n        print('Ture')\\n    else:\\n        print('False')\\n\\nf = open('colors', 'wb') #wb 문자가 아닌 데이터 쓰기모드\\npickle.dump(colors, f)\\nf.close()\\ncheck_colors()\\n\\ndel colors\\ncheck_colors()\\n\\nf = open('colors', 'rb')\\ncolors = pickle.load(f)\\nf.close()\\nprint(colors)\\ncheck_colors()\",\n",
       "  'globals()'],\n",
       " '_oh': {},\n",
       " '_dh': [PosixPath('/Users/ljieun/Desktop/khweb19/Homework/jieunLee/python')],\n",
       " 'In': ['',\n",
       "  'def times(a, b):\\n    return a*b\\nprint (times)',\n",
       "  'def times(a, b):\\n    return a*b\\nprint (times)\\nprint (times(10, 2))',\n",
       "  'print(times)',\n",
       "  'pointerOfFunction = times\\nres = pointerOfFunction(10, 10)\\nprint(res)',\n",
       "  'pointerOfFunction = times\\nres = pointerOfFunction(10, 10)\\nprint(res)',\n",
       "  'def intersect(preList, postList):\\n    retList = []\\n    for x in preList:\\n        if x in postList:\\n            reList.append(x)\\n    return retList\\n\\nlist1 = \"Apple\"\\nlist2 = \"grape\"\\n\\nprint(intersect(list1, list2))',\n",
       "  'def intersect(preList, postList):\\n    retList = []\\n    for x in preList:\\n        if x in postList:\\n            retList.append(x)\\n    return retList\\n\\nlist1 = \"Apple\"\\nlist2 = \"grape\"\\n\\nprint(intersect(list1, list2))',\n",
       "  'def intersect(preList, postList):\\n    retList = []\\n    for x in preList:\\n        if x in postList:\\n            retList.append(x)\\n    return retList\\n\\nlist1 = \"Apple\"\\nlist2 = \"grape\"\\n\\nprint(intersect(list1, list2))\\nprint(intersect(list1, [\\'H\\', \\'A\\', \\'M\\']))',\n",
       "  'def swap(x, y):\\n    return y, x\\nprint(swap(3, 7))',\n",
       "  'def swap(x, y):\\n    return y, x\\na, b = swap(33, 77)\\nx = swap(333, 777)\\nprint(swap(3, 7))\\nprint(a)\\nprint(b)\\nprint(x)\\nprint(type(x))',\n",
       "  'x = 10\\ndef sum_test(x, y):\\n    x = 1\\n    return x + y\\n\\nprint(sum_test(x, x))\\nprint(x)',\n",
       "  \"def change(x):\\n    x = x[:]\\n    x[0] = 'H'\\n\\nwordList = ['J', 'A', 'M']\\nprint(wordList)\\nchange(wordList)\\nprint(wordLlist)\",\n",
       "  \"def change(x):\\n    x = x[:]\\n    x[0] = 'H'\\n\\nwordList = ['J', 'A', 'M']\\nprint(wordList)\\nchange(wordList)\\nprint(wordList)\",\n",
       "  'num = 1\\nprint(num)\\n\\ndef globScope(x):\\n    global num\\n    num = 7\\n    return num + x\\n\\nprint(globScope(3))\\nprint(num)',\n",
       "  'g = lambda x, y: x * y\\nprint(g(2, 3))',\n",
       "  'g = lambda x, y: x * y\\nprint(g(2, 3))\\nprint((lambda x: x * x)(3))',\n",
       "  \"# 파일 I/O\\nf = open('test.txt', 'w')\\nprint(f.write('Jieun\\\\nwow'))\\nf.close()\\nget_ipython().system('ls')\",\n",
       "  \"# 파일 I/O\\nf = open('test.txt', 'w')\\nprint(f.write('Jieun\\\\nwow'))\\nf.close()\\nget_ipython().system('ls')\\nget_ipython().system('cat test')\",\n",
       "  \"# 파일 I/O\\nf = open('test.txt', 'w')\\nprint(f.write('Jieun\\\\nwow'))\\nf.close()\\nget_ipython().system('ls')\\nget_ipython().system('cat test.txt')\",\n",
       "  \"# 파일 I/O\\nf = open('test.txt', 'w') #'w'쓰기모드, 디폴트\\nprint(f.write('Jieun\\\\nwow'))\\nf.close() #opne-close 함께 사용\\nprint(f.closed)\\nget_ipython().system('ls')\\nget_ipython().system('cat test.txt')\",\n",
       "  \"# 파일 I/O\\nf = open('test.txt', 'w') #'w'쓰기모드, 디폴트\\nprint(f.write('Jieun\\\\nwow'))\\nf.close() #opne-close 함께 사용\\nprint(f.closed)\\nget_ipython().system('ls')\\nget_ipython().system('cat test.txt')\",\n",
       "  \"# 파일 I/O\\nf = open('test.txt', 'w') #'w'쓰기모드, 디폴트\\nprint(f.write('Jieun\\\\nwow'))\\nf.close() #opne-close 함께 사용\\nprint(f.closed)\",\n",
       "  \"# 파일 I/O\\nf = open('test.txt', 'w') #'w'쓰기모드, 디폴트\\nprint(f.write('Jieun\\\\nwow'))\\nf.close() #opne-close 함께 사용\\nprint(f.closed)\\nget_ipython().system('ls')\\nget_ipython().system('cat test.txt')\",\n",
       "  \"with open('test.txt') as f:\\n    print(f.readlines())\\n    print(f.closed)\\nprint(f.closed)\",\n",
       "  \"colors = ['red', 'green', 'blue']\\nprint(colors)\\n\\ndef check_colors():\\n    if 'colors' in globlas():\\n        print('Ture')\\n    else:\\n        print('False')\",\n",
       "  \"colors = ['red', 'green', 'blue']\\nprint(colors)\\n\\ndef check_colors():\\n    if 'colors' in globlas():\\n        print('Ture')\\n    else:\\n        print('False')\\n\\nf = open('colors', 'wb') #wb 문자가 아닌 데이터 쓰기모드\",\n",
       "  \"colors = ['red', 'green', 'blue']\\nprint(colors)\\n\\ndef check_colors():\\n    if 'colors' in globlas():\\n        print('Ture')\\n    else:\\n        print('False')\\n\\nf = open('colors', 'wb') #wb 문자가 아닌 데이터 쓰기모드\\npickle.dump(colors, f)\\nf.close()\\ncheck_colors()\",\n",
       "  \"import pickle\\ncolors = ['red', 'green', 'blue']\\nprint(colors)\\n\\ndef check_colors():\\n    if 'colors' in globlas():\\n        print('Ture')\\n    else:\\n        print('False')\\n\\nf = open('colors', 'wb') #wb 문자가 아닌 데이터 쓰기모드\\npickle.dump(colors, f)\\nf.close()\\ncheck_colors()\",\n",
       "  \"import pickle\\ncolors = ['red', 'green', 'blue']\\nprint(colors)\\n\\ndef check_colors():\\n    if 'colors' in globlss():\\n        print('Ture')\\n    else:\\n        print('False')\\n\\nf = open('colors', 'wb') #wb 문자가 아닌 데이터 쓰기모드\\npickle.dump(colors, f)\\nf.close()\\ncheck_colors()\",\n",
       "  \"import pickle\\ncolors = ['red', 'green', 'blue']\\nprint(colors)\\n\\ndef check_colors():\\n    if 'colors' in globals():\\n        print('Ture')\\n    else:\\n        print('False')\\n\\nf = open('colors', 'wb') #wb 문자가 아닌 데이터 쓰기모드\\npickle.dump(colors, f)\\nf.close()\\ncheck_colors()\",\n",
       "  \"import pickle\\ncolors = ['red', 'green', 'blue']\\nprint(colors)\\n\\ndef check_colors():\\n    if 'colors' in globals():\\n        print('Ture')\\n    else:\\n        print('False')\\n\\nf = open('colors', 'wb') #wb 문자가 아닌 데이터 쓰기모드\\npickle.dump(colors, f)\\nf.close()\\ncheck_colors()\\n\\ndel colors\\ncheck_colors()\",\n",
       "  \"import pickle\\ncolors = ['red', 'green', 'blue']\\nprint(colors)\\n\\ndef check_colors():\\n    if 'colors' in globals():\\n        print('Ture')\\n    else:\\n        print('False')\\n\\nf = open('colors', 'wb') #wb 문자가 아닌 데이터 쓰기모드\\npickle.dump(colors, f)\\nf.close()\\ncheck_colors()\\n\\ndel colors\\ncheck_colors()\\n\\nf = open('colors', 'rb')\\ncolors = pickle.load(f)\\nf.close()\\nprint(colors)\\ncheck_colors()\",\n",
       "  'globals()'],\n",
       " 'Out': {},\n",
       " 'get_ipython': <bound method InteractiveShell.get_ipython of <ipykernel.zmqshell.ZMQInteractiveShell object at 0x7fe238302370>>,\n",
       " 'exit': <IPython.core.autocall.ZMQExitAutocall at 0x7fe238302f70>,\n",
       " 'quit': <IPython.core.autocall.ZMQExitAutocall at 0x7fe238302f70>,\n",
       " '_': '',\n",
       " '__': '',\n",
       " '___': '',\n",
       " '_i': \"import pickle\\ncolors = ['red', 'green', 'blue']\\nprint(colors)\\n\\ndef check_colors():\\n    if 'colors' in globals():\\n        print('Ture')\\n    else:\\n        print('False')\\n\\nf = open('colors', 'wb') #wb 문자가 아닌 데이터 쓰기모드\\npickle.dump(colors, f)\\nf.close()\\ncheck_colors()\\n\\ndel colors\\ncheck_colors()\\n\\nf = open('colors', 'rb')\\ncolors = pickle.load(f)\\nf.close()\\nprint(colors)\\ncheck_colors()\",\n",
       " '_ii': \"import pickle\\ncolors = ['red', 'green', 'blue']\\nprint(colors)\\n\\ndef check_colors():\\n    if 'colors' in globals():\\n        print('Ture')\\n    else:\\n        print('False')\\n\\nf = open('colors', 'wb') #wb 문자가 아닌 데이터 쓰기모드\\npickle.dump(colors, f)\\nf.close()\\ncheck_colors()\\n\\ndel colors\\ncheck_colors()\",\n",
       " '_iii': \"import pickle\\ncolors = ['red', 'green', 'blue']\\nprint(colors)\\n\\ndef check_colors():\\n    if 'colors' in globals():\\n        print('Ture')\\n    else:\\n        print('False')\\n\\nf = open('colors', 'wb') #wb 문자가 아닌 데이터 쓰기모드\\npickle.dump(colors, f)\\nf.close()\\ncheck_colors()\",\n",
       " '_i1': 'def times(a, b):\\n    return a*b\\nprint (times)',\n",
       " 'times': <function __main__.times(a, b)>,\n",
       " '_i2': 'def times(a, b):\\n    return a*b\\nprint (times)\\nprint (times(10, 2))',\n",
       " '_i3': 'print(times)',\n",
       " '_i4': 'pointerOfFunction = times\\nres = pointerOfFunction(10, 10)\\nprint(res)',\n",
       " 'pointerOfFunction': <function __main__.times(a, b)>,\n",
       " 'res': 100,\n",
       " '_i5': 'pointerOfFunction = times\\nres = pointerOfFunction(10, 10)\\nprint(res)',\n",
       " '_i6': 'def intersect(preList, postList):\\n    retList = []\\n    for x in preList:\\n        if x in postList:\\n            reList.append(x)\\n    return retList\\n\\nlist1 = \"Apple\"\\nlist2 = \"grape\"\\n\\nprint(intersect(list1, list2))',\n",
       " 'intersect': <function __main__.intersect(preList, postList)>,\n",
       " 'list1': 'Apple',\n",
       " 'list2': 'grape',\n",
       " '_i7': 'def intersect(preList, postList):\\n    retList = []\\n    for x in preList:\\n        if x in postList:\\n            retList.append(x)\\n    return retList\\n\\nlist1 = \"Apple\"\\nlist2 = \"grape\"\\n\\nprint(intersect(list1, list2))',\n",
       " '_i8': 'def intersect(preList, postList):\\n    retList = []\\n    for x in preList:\\n        if x in postList:\\n            retList.append(x)\\n    return retList\\n\\nlist1 = \"Apple\"\\nlist2 = \"grape\"\\n\\nprint(intersect(list1, list2))\\nprint(intersect(list1, [\\'H\\', \\'A\\', \\'M\\']))',\n",
       " '_i9': 'def swap(x, y):\\n    return y, x\\nprint(swap(3, 7))',\n",
       " 'swap': <function __main__.swap(x, y)>,\n",
       " '_i10': 'def swap(x, y):\\n    return y, x\\na, b = swap(33, 77)\\nx = swap(333, 777)\\nprint(swap(3, 7))\\nprint(a)\\nprint(b)\\nprint(x)\\nprint(type(x))',\n",
       " 'a': 77,\n",
       " 'b': 33,\n",
       " 'x': 10,\n",
       " '_i11': 'x = 10\\ndef sum_test(x, y):\\n    x = 1\\n    return x + y\\n\\nprint(sum_test(x, x))\\nprint(x)',\n",
       " 'sum_test': <function __main__.sum_test(x, y)>,\n",
       " '_i12': \"def change(x):\\n    x = x[:]\\n    x[0] = 'H'\\n\\nwordList = ['J', 'A', 'M']\\nprint(wordList)\\nchange(wordList)\\nprint(wordLlist)\",\n",
       " 'change': <function __main__.change(x)>,\n",
       " 'wordList': ['J', 'A', 'M'],\n",
       " '_i13': \"def change(x):\\n    x = x[:]\\n    x[0] = 'H'\\n\\nwordList = ['J', 'A', 'M']\\nprint(wordList)\\nchange(wordList)\\nprint(wordList)\",\n",
       " '_i14': 'num = 1\\nprint(num)\\n\\ndef globScope(x):\\n    global num\\n    num = 7\\n    return num + x\\n\\nprint(globScope(3))\\nprint(num)',\n",
       " 'num': 7,\n",
       " 'globScope': <function __main__.globScope(x)>,\n",
       " '_i15': 'g = lambda x, y: x * y\\nprint(g(2, 3))',\n",
       " 'g': <function __main__.<lambda>(x, y)>,\n",
       " '_i16': 'g = lambda x, y: x * y\\nprint(g(2, 3))\\nprint((lambda x: x * x)(3))',\n",
       " '_i17': \"# 파일 I/O\\nf = open('test.txt', 'w')\\nprint(f.write('Jieun\\\\nwow'))\\nf.close()\\n!ls\",\n",
       " 'f': <_io.BufferedReader name='colors'>,\n",
       " '_exit_code': 0,\n",
       " '_i18': \"# 파일 I/O\\nf = open('test.txt', 'w')\\nprint(f.write('Jieun\\\\nwow'))\\nf.close()\\n!ls\\n!cat test\",\n",
       " '_i19': \"# 파일 I/O\\nf = open('test.txt', 'w')\\nprint(f.write('Jieun\\\\nwow'))\\nf.close()\\n!ls\\n!cat test.txt\",\n",
       " '_i20': \"# 파일 I/O\\nf = open('test.txt', 'w') #'w'쓰기모드, 디폴트\\nprint(f.write('Jieun\\\\nwow'))\\nf.close() #opne-close 함께 사용\\nprint(f.closed)\\n!ls\\n!cat test.txt\",\n",
       " '_i21': \"# 파일 I/O\\nf = open('test.txt', 'w') #'w'쓰기모드, 디폴트\\nprint(f.write('Jieun\\\\nwow'))\\nf.close() #opne-close 함께 사용\\nprint(f.closed)\\n!ls\\n!cat test.txt\",\n",
       " '_i22': \"# 파일 I/O\\nf = open('test.txt', 'w') #'w'쓰기모드, 디폴트\\nprint(f.write('Jieun\\\\nwow'))\\nf.close() #opne-close 함께 사용\\nprint(f.closed)\",\n",
       " '_i23': \"# 파일 I/O\\nf = open('test.txt', 'w') #'w'쓰기모드, 디폴트\\nprint(f.write('Jieun\\\\nwow'))\\nf.close() #opne-close 함께 사용\\nprint(f.closed)\\n!ls\\n!cat test.txt\",\n",
       " '_i24': \"with open('test.txt') as f:\\n    print(f.readlines())\\n    print(f.closed)\\nprint(f.closed)\",\n",
       " '_i25': \"colors = ['red', 'green', 'blue']\\nprint(colors)\\n\\ndef check_colors():\\n    if 'colors' in globlas():\\n        print('Ture')\\n    else:\\n        print('False')\",\n",
       " 'check_colors': <function __main__.check_colors()>,\n",
       " '_i26': \"colors = ['red', 'green', 'blue']\\nprint(colors)\\n\\ndef check_colors():\\n    if 'colors' in globlas():\\n        print('Ture')\\n    else:\\n        print('False')\\n\\nf = open('colors', 'wb') #wb 문자가 아닌 데이터 쓰기모드\",\n",
       " '_i27': \"colors = ['red', 'green', 'blue']\\nprint(colors)\\n\\ndef check_colors():\\n    if 'colors' in globlas():\\n        print('Ture')\\n    else:\\n        print('False')\\n\\nf = open('colors', 'wb') #wb 문자가 아닌 데이터 쓰기모드\\npickle.dump(colors, f)\\nf.close()\\ncheck_colors()\",\n",
       " '_i28': \"import pickle\\ncolors = ['red', 'green', 'blue']\\nprint(colors)\\n\\ndef check_colors():\\n    if 'colors' in globlas():\\n        print('Ture')\\n    else:\\n        print('False')\\n\\nf = open('colors', 'wb') #wb 문자가 아닌 데이터 쓰기모드\\npickle.dump(colors, f)\\nf.close()\\ncheck_colors()\",\n",
       " 'pickle': <module 'pickle' from '/Users/ljieun/opt/anaconda3/lib/python3.9/pickle.py'>,\n",
       " '_i29': \"import pickle\\ncolors = ['red', 'green', 'blue']\\nprint(colors)\\n\\ndef check_colors():\\n    if 'colors' in globlss():\\n        print('Ture')\\n    else:\\n        print('False')\\n\\nf = open('colors', 'wb') #wb 문자가 아닌 데이터 쓰기모드\\npickle.dump(colors, f)\\nf.close()\\ncheck_colors()\",\n",
       " '_i30': \"import pickle\\ncolors = ['red', 'green', 'blue']\\nprint(colors)\\n\\ndef check_colors():\\n    if 'colors' in globals():\\n        print('Ture')\\n    else:\\n        print('False')\\n\\nf = open('colors', 'wb') #wb 문자가 아닌 데이터 쓰기모드\\npickle.dump(colors, f)\\nf.close()\\ncheck_colors()\",\n",
       " '_i31': \"import pickle\\ncolors = ['red', 'green', 'blue']\\nprint(colors)\\n\\ndef check_colors():\\n    if 'colors' in globals():\\n        print('Ture')\\n    else:\\n        print('False')\\n\\nf = open('colors', 'wb') #wb 문자가 아닌 데이터 쓰기모드\\npickle.dump(colors, f)\\nf.close()\\ncheck_colors()\\n\\ndel colors\\ncheck_colors()\",\n",
       " '_i32': \"import pickle\\ncolors = ['red', 'green', 'blue']\\nprint(colors)\\n\\ndef check_colors():\\n    if 'colors' in globals():\\n        print('Ture')\\n    else:\\n        print('False')\\n\\nf = open('colors', 'wb') #wb 문자가 아닌 데이터 쓰기모드\\npickle.dump(colors, f)\\nf.close()\\ncheck_colors()\\n\\ndel colors\\ncheck_colors()\\n\\nf = open('colors', 'rb')\\ncolors = pickle.load(f)\\nf.close()\\nprint(colors)\\ncheck_colors()\",\n",
       " 'colors': ['red', 'green', 'blue'],\n",
       " '_i33': 'globals()'}"
      ]
     },
     "execution_count": 33,
     "metadata": {},
     "output_type": "execute_result"
    }
   ],
   "source": [
    "globals() #전역 데이터 확인"
   ]
  },
  {
   "cell_type": "code",
   "execution_count": 38,
   "id": "e70fd2d8",
   "metadata": {},
   "outputs": [
    {
     "name": "stdout",
     "output_type": "stream",
     "text": [
      "이름은 이지은\n",
      "이름은 아무개\n",
      "이름은 아무개\n",
      "p1 이름:  아무개\n",
      "p2 이름:  이지은\n"
     ]
    }
   ],
   "source": [
    "#클래스\n",
    "class Person:\n",
    "    name = '이지은'\n",
    "    \n",
    "    def print(self): #메서드의 첫번째 인자는 반드시 self를 적어줘야함\n",
    "        print(\"이름은 {0}\".format(self.name))\n",
    "\n",
    "p1 = Person()\n",
    "p1.print()\n",
    "\n",
    "p1.name = \"아무개\"\n",
    "p1.print()\n",
    "Person.print(p1)\n",
    "\n",
    "p2 = Person()\n",
    "print(\"p1 이름: \", p1.name)\n",
    "print(\"p2 이름: \", p2.name)"
   ]
  },
  {
   "cell_type": "code",
   "execution_count": 39,
   "id": "84740056",
   "metadata": {},
   "outputs": [
    {
     "name": "stdout",
     "output_type": "stream",
     "text": [
      "클래스 멤버 아님\n",
      "테스트 메시지\n"
     ]
    }
   ],
   "source": [
    "str1 = \"클래스 멤버 아님\"\n",
    "\n",
    "class NonSelfTest:\n",
    "    str1 = \"\"\n",
    "    \n",
    "    def setFunc(self, msg):\n",
    "        self.str1 = msg\n",
    "        \n",
    "    def print(self):\n",
    "        print(str1)\n",
    "        print(self.str1) #self\n",
    "    \n",
    "test = NonSelfTest()\n",
    "test.setFunc(\"테스트 메시지\")\n",
    "test.print()"
   ]
  },
  {
   "cell_type": "code",
   "execution_count": 43,
   "id": "cc155d5a",
   "metadata": {},
   "outputs": [
    {
     "name": "stdout",
     "output_type": "stream",
     "text": [
      "클래스 생성 value = 333\n",
      "클래스 파괴\n"
     ]
    }
   ],
   "source": [
    "class Vehicles:\n",
    "    #생성자: 객체를 생성할때 동작\n",
    "    def __init__(self, value):\n",
    "        self.value = value\n",
    "        print(\"클래스 생성 value =\", value)\n",
    "\n",
    "    #소멸자: test()가 끝날때 동작\n",
    "    def __del__(self):\n",
    "        print(\"클래스 파괴\")\n",
    "        \n",
    "def test():\n",
    "    v = Vehicles(333)\n",
    "    \n",
    "test()"
   ]
  },
  {
   "cell_type": "code",
   "execution_count": 64,
   "id": "10d4023c",
   "metadata": {},
   "outputs": [
    {
     "name": "stdout",
     "output_type": "stream",
     "text": [
      "이름 gogosing, 연락처 010-2022-0123\n",
      "이름 Test, 연락처 123-2415-3421, 학과 컴퓨터공학, 학번 1234123\n",
      "{'name': 'gogosing', 'phoneNum': '010-2022-0123'}\n",
      "{'name': 'Test', 'phoneNum': '123-2415-3421', 'major': '컴퓨터공학', 'studentId': '1234123'}\n"
     ]
    }
   ],
   "source": [
    "class Person:\n",
    "    def __init__(self, name, phoneNum):\n",
    "        self.name = name\n",
    "        self.phoneNum = phoneNum\n",
    "    \n",
    "    def print(self):\n",
    "        print(\"이름 {0}, 연락처 {1}\".format(self.name, self.phoneNum))\n",
    "        \n",
    "class Student(Person): #(상속할클래스)\n",
    "    def __init__(self, name, phoneNum, major, studentId):\n",
    "        super(Student, self).__init__(name, phoneNum)\n",
    "        self.major = major\n",
    "        self.studentId = studentId\n",
    "        \n",
    "    def print(self):\n",
    "        print(\"이름 {0}, 연락처 {1}, 학과 {2}, 학번 {3}\".format(self.name, self.phoneNum, self.major, self.studentId))\n",
    "        \n",
    "p = Person(\"gogosing\", \"010-2022-0123\")\n",
    "p.print()\n",
    "s = Student(\"Test\", \"123-2415-3421\", \"컴퓨터공학\", \"1234123\")\n",
    "s.print()\n",
    "\n",
    "print(p.__dict__) #객체에 관련한 모든 정보 출력, Java의 toString()\n",
    "print(s.__dict__)"
   ]
  },
  {
   "cell_type": "code",
   "execution_count": 66,
   "id": "04f13569",
   "metadata": {},
   "outputs": [
    {
     "name": "stdout",
     "output_type": "stream",
     "text": [
      "이름 jieun, 연락처 123-2415-3421, 학과 컴퓨터공학, 학번 1234123\n",
      "3\n",
      "요래요래\n"
     ]
    },
    {
     "ename": "AttributeError",
     "evalue": "'DummyTestClass' object has no attribute '__var3'",
     "output_type": "error",
     "traceback": [
      "\u001b[0;31m---------------------------------------------------------------------------\u001b[0m",
      "\u001b[0;31mAttributeError\u001b[0m                            Traceback (most recent call last)",
      "Input \u001b[0;32mIn [66]\u001b[0m, in \u001b[0;36m<cell line: 15>\u001b[0;34m()\u001b[0m\n\u001b[1;32m     13\u001b[0m \u001b[38;5;28mprint\u001b[39m(dtc\u001b[38;5;241m.\u001b[39mvar1) \u001b[38;5;66;03m#public\u001b[39;00m\n\u001b[1;32m     14\u001b[0m \u001b[38;5;28mprint\u001b[39m(dtc\u001b[38;5;241m.\u001b[39m_var2) \u001b[38;5;66;03m#protected\u001b[39;00m\n\u001b[0;32m---> 15\u001b[0m \u001b[38;5;28mprint\u001b[39m(\u001b[43mdtc\u001b[49m\u001b[38;5;241;43m.\u001b[39;49m\u001b[43m__var3\u001b[49m)\n",
      "\u001b[0;31mAttributeError\u001b[0m: 'DummyTestClass' object has no attribute '__var3'"
     ]
    }
   ],
   "source": [
    "s.name = \"jieun\"\n",
    "s.print()\n",
    "\n",
    "#위와 같이 누군가에 의해 변경되는것을 막아야함\n",
    "class DummyTestClass():\n",
    "    def __init__(self):\n",
    "        self.var1 = 3\n",
    "        self._var2 = '요래요래'\n",
    "        self.__var3 = '방어'\n",
    "        \n",
    "dtc = DummyTestClass()\n",
    "\n",
    "print(dtc.var1) #public\n",
    "print(dtc._var2) #protected\n",
    "print(dtc.__var3) #private"
   ]
  },
  {
   "cell_type": "code",
   "execution_count": 67,
   "id": "bb9a731a",
   "metadata": {},
   "outputs": [
    {
     "name": "stdout",
     "output_type": "stream",
     "text": [
      "방어\n"
     ]
    }
   ],
   "source": [
    "print(dtc._DummyTestClass__var3)"
   ]
  },
  {
   "cell_type": "code",
   "execution_count": null,
   "id": "4b0dea23",
   "metadata": {},
   "outputs": [],
   "source": []
  }
 ],
 "metadata": {
  "kernelspec": {
   "display_name": "Python 3 (ipykernel)",
   "language": "python",
   "name": "python3"
  },
  "language_info": {
   "codemirror_mode": {
    "name": "ipython",
    "version": 3
   },
   "file_extension": ".py",
   "mimetype": "text/x-python",
   "name": "python",
   "nbconvert_exporter": "python",
   "pygments_lexer": "ipython3",
   "version": "3.9.12"
  }
 },
 "nbformat": 4,
 "nbformat_minor": 5
}
