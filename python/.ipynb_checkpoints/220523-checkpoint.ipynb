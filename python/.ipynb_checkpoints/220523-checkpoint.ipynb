{
 "cells": [
  {
   "cell_type": "code",
   "execution_count": 23,
   "id": "f23dd496",
   "metadata": {},
   "outputs": [],
   "source": [
    "import json\n",
    "import datetime\n",
    "import os\n",
    "\n",
    "KAKAO_TOKEN_SAVED_FILE = \"kakao_msg/kakao_token.json\"\n",
    "\n",
    "def load_tokens(filename):\n",
    "    with open(filename) as fp:\n",
    "        tokens = json.load(fp)\n",
    "        \n",
    "    return tokens\n",
    "\n",
    "tokens = load_tokens(KAKAO_TOKEN_SAVED_FILE)"
   ]
  },
  {
   "cell_type": "code",
   "execution_count": 24,
   "id": "f9386d3a",
   "metadata": {},
   "outputs": [],
   "source": [
    "KAKAO_FRIEND_TOKEN_SAVED_FILE = \"kakao_msg/kakao_friend_token.json\"\n",
    "\n",
    "def save_tokens(filename, tokens):\n",
    "    with open(filename, \"w\") as fp:\n",
    "        json.dump(tokens, fp)"
   ]
  },
  {
   "cell_type": "code",
   "execution_count": 29,
   "id": "6a2e59b8",
   "metadata": {},
   "outputs": [
    {
     "name": "stdout",
     "output_type": "stream",
     "text": [
      "{'access_token': 'MDcHXyBXpKouBMTdWdD_ackLrZRD3IAA31B5TD60Cj11GwAAAYD1CqX9', 'token_type': 'bearer', 'refresh_token': 'if4IhqSRqWvhco5i9UtxK4ECWlfqrlnofKJfO_VSCj11GwAAAYD1CqX8', 'expires_in': 21599, 'scope': 'talk_message friends', 'refresh_token_expires_in': 5183999}\n"
     ]
    }
   ],
   "source": [
    "#https://kauth.kakao.com/oauth/authorize?client_id=어쩌구저쩌구&redirect_uri=https://localhost.com&response_type=code&scope=friends,talk_message\n",
    "#팀관리 - EDITOR 팀원 초대\n",
    "#동의항목 - 카카오 서비스 내 친구목록 - 이용중동의\n",
    "\n",
    "import requests\n",
    "\n",
    "url = \"https://kauth.kakao.com/oauth/token\"\n",
    "\n",
    "data = {\n",
    "    \"grant_type\": \"authorization_code\",\n",
    "    \"client_id\": \"선생님restAPI\",\n",
    "    \"redirect_uri\": \"https://localhost.com\",\n",
    "    \"code\": \"\"\n",
    "}\n",
    "\n",
    "response = requests.post(url, data=data)\n",
    "\n",
    "if response.status_code != 200:\n",
    "    print(\"에러!!!\")\n",
    "else:\n",
    "    tokens = response.json()\n",
    "    print(tokens)\n",
    "    \n",
    "save_tokens(KAKAO_FRIEND_TOKEN_SAVED_FILE, tokens)"
   ]
  },
  {
   "cell_type": "code",
   "execution_count": 36,
   "id": "aaccea01",
   "metadata": {},
   "outputs": [
    {
     "name": "stdout",
     "output_type": "stream",
     "text": [
      "<class 'dict'>\n",
      "['88D5yPnJ_sjk1efe59fu3eXJ_sr9zfrKtg', '88DxxvTN_sb_0-XT4tbj1-XQ_Mv_yPjP_30', '88L0xvfF8cL2x-vY6tzr2u3Z693xxvLF9cLydA', '88DzwfbB8sP22uvS4dPm0-XS4c36zvnJ_s6w', '88f1wvDF98Ty3unb79_q2eHT_8j8y_vM_Hg']\n"
     ]
    }
   ],
   "source": [
    "import requests\n",
    "\n",
    "tokens = load_tokens(KAKAO_FRIEND_TOKEN_SAVED_FILE)\n",
    "\n",
    "friends_url = \"https://kapi.kakao.com/v1/api/talk/friends\"\n",
    "\n",
    "headers = {\n",
    "    \"Authorization\": \"Bearer \" + tokens['access_token']\n",
    "}\n",
    "\n",
    "res = json.loads(requests.get(friends_url, headers=headers).text)\n",
    "\n",
    "print(type(res))\n",
    "#print(res)\n",
    "\n",
    "flist_uuid = []\n",
    "friends_list = res.get(\"elements\")\n",
    "#print(friends_list)\n",
    "\n",
    "fid = friends_list[0].get(\"uuid\")\n",
    "#print(fid)\n",
    "\n",
    "for i in range(len(friends_list)):\n",
    "    flist_uuid.append(friends_list[i].get(\"uuid\"))\n",
    "    \n",
    "print(flist_uuid)"
   ]
  },
  {
   "cell_type": "code",
   "execution_count": 35,
   "id": "114fddbe",
   "metadata": {},
   "outputs": [
    {
     "name": "stdout",
     "output_type": "stream",
     "text": [
      "88D5yPnJ_sjk1efe59fu3eXJ_sr9zfrKtg\n",
      "[\"88D5yPnJ_sjk1efe59fu3eXJ_sr9zfrKtg\"]\n",
      "400\n",
      "{'msg': 'API limit has been exceeded.', 'rule_id': 389, 'code': -10}\n",
      "에러!\n"
     ]
    }
   ],
   "source": [
    "fsend_url = \"https://kapi.kakao.com/v1/api/talk/friends/message/default/send\"\n",
    "\n",
    "print(fid)\n",
    "\n",
    "headers = {\n",
    "    \"Content-Type\": \"application/x-www-form-urlencoded\",\n",
    "    \"Authorization\": \"Bearer \" + tokens['access_token']\n",
    "}\n",
    "\n",
    "print('[\"{}\"]'.format(fid))\n",
    "\n",
    "data = {\n",
    "    'receiver_uuids': '[\"{}\"]'.format(fid),\n",
    "    \"template_object\": json.dumps({\n",
    "        \"object_type\": \"text\",\n",
    "        \"text\": \"텍스트 영역입니다. 최대 200자 표시 가능합니다.\",\n",
    "        \"link\": {\n",
    "            \"web_url\": \"https://developers.kakao.com\",\n",
    "            \"mobile_web_url\": \"https://developers.kakao.com\"\n",
    "        },\n",
    "        \"button_title\": \"바로 확인\"\n",
    "    })\n",
    "}\n",
    "\n",
    "response = requests.post(fsend_url, headers=headers, data=data)\n",
    "print(response.status_code)\n",
    "print(response.json())\n",
    "\n",
    "if response.status_code != 200:\n",
    "    print(\"에러!\")\n",
    "else:\n",
    "    print(\"카톡 메시지가 간드아!\")"
   ]
  },
  {
   "cell_type": "code",
   "execution_count": null,
   "id": "ceb88e1b",
   "metadata": {},
   "outputs": [],
   "source": [
    "def team_loop_msg(fid_list):\n",
    "    for i in range(len(fid_list)):\n",
    "        data = {\n",
    "            'receiver_uuids': '[\"{}\"]'.format(fid_list[i]),\n",
    "            \"template_object\": json.dumps({\n",
    "                \"object_type\": \"text\",\n",
    "                \"text\": \"xxx 회원님들!!! 오늘부터 50% 초특가 폭탄 세일입니다!!!\",\n",
    "                \"link\": {\n",
    "                    \"web_url\": \"https://www.google.com/\",\n",
    "                    \"mobile_web_url\": \"https://www.google.com/\"\n",
    "                },\n",
    "                \"button_title\": \"공지사항\"\n",
    "            })\n",
    "        }\n",
    "        \n",
    "        requests.post(fsend_url, headers=headers, data=data)\n",
    "    \n",
    "team_loop_msg(flist_uuid)"
   ]
  }
 ],
 "metadata": {
  "kernelspec": {
   "display_name": "Python 3 (ipykernel)",
   "language": "python",
   "name": "python3"
  },
  "language_info": {
   "codemirror_mode": {
    "name": "ipython",
    "version": 3
   },
   "file_extension": ".py",
   "mimetype": "text/x-python",
   "name": "python",
   "nbconvert_exporter": "python",
   "pygments_lexer": "ipython3",
   "version": "3.9.12"
  }
 },
 "nbformat": 4,
 "nbformat_minor": 5
}
