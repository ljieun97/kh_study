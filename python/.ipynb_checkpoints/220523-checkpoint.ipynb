{
 "cells": [
  {
   "cell_type": "code",
   "execution_count": 1,
   "id": "f23dd496",
   "metadata": {},
   "outputs": [],
   "source": [
    "import json\n",
    "import datetime\n",
    "import os\n",
    "\n",
    "#토큰 저장된 파일\n",
    "KAKAO_TOKEN_SAVED_FILE = \"kakao_msg/kakao_token.json\"\n",
    "\n",
    "def load_tokens(filename):\n",
    "    with open(filename) as fp:\n",
    "        tokens = json.load(fp)\n",
    "        \n",
    "    return tokens\n",
    "\n",
    "tokens = load_tokens(KAKAO_TOKEN_SAVED_FILE)"
   ]
  },
  {
   "cell_type": "code",
   "execution_count": 2,
   "id": "f9386d3a",
   "metadata": {},
   "outputs": [],
   "source": [
    "KAKAO_FRIEND_TOKEN_SAVED_FILE = \"kakao_msg/kakao_friend_token.json\"\n",
    "\n",
    "def save_tokens(filename, tokens):\n",
    "    with open(filename, \"w\") as fp:\n",
    "        json.dump(tokens, fp)"
   ]
  },
  {
   "cell_type": "code",
   "execution_count": 4,
   "id": "6a2e59b8",
   "metadata": {},
   "outputs": [
    {
     "name": "stdout",
     "output_type": "stream",
     "text": [
      "{'access_token': 'aMGyjjA9gxL1MGl99MuATF4kZZJSisd0r9c8KETSCilvVAAAAYDwKm6e', 'token_type': 'bearer', 'refresh_token': 'V9bruFV7hGDTgUB7plko771iZjaYaYAX_HkqQMUFCilvVAAAAYDwKm6d', 'expires_in': 21599, 'scope': 'talk_message friends', 'refresh_token_expires_in': 5183999}\n"
     ]
    }
   ],
   "source": [
    "#https://kauth.kakao.com/oauth/authorize?client_id=어쩌구저쩌구&redirect_uri=https://localhost.com&response_type=code&scope=friends,talk_message\n",
    "#팀관리 - EDITOR 팀원 초대\n",
    "#동의항목 - 카카오 서비스 내 친구목록 - 이용중동의\n",
    "\n",
    "import requests\n",
    "\n",
    "url = \"https://kauth.kakao.com/oauth/token\"\n",
    "\n",
    "data = {\n",
    "    \"grant_type\": \"authorization_code\",\n",
    "    \"client_id\": \"addefc08a95c9e96d7f314ed5de6874e\",\n",
    "    \"redirect_uri\": \"https://localhost.com\",\n",
    "    \"code\": \"RY8eMHO8gSrMmBykhxIfnra-i82OYu_eRNadxsGQSLx7ZZ2fEN4-bApPTGcpQaJ5cYayNQo9dNsAAAGA8Cihtg\"\n",
    "}\n",
    "\n",
    "response = requests.post(url, data=data)\n",
    "\n",
    "if response.status_code != 200:\n",
    "    print(\"에러!!!\")\n",
    "else:\n",
    "    tokens = response.json()\n",
    "    print(tokens)"
   ]
  },
  {
   "cell_type": "code",
   "execution_count": 5,
   "id": "aaccea01",
   "metadata": {},
   "outputs": [
    {
     "name": "stdout",
     "output_type": "stream",
     "text": [
      "<class 'dict'>\n",
      "{'elements': [], 'total_count': 0, 'after_url': None, 'favorite_count': 0}\n"
     ]
    }
   ],
   "source": [
    "save_tokens(KAKAO_FRIEND_TOKEN_SAVED_FILE, tokens)\n",
    "\n",
    "tokens = load_tokens(KAKAO_FRIEND_TOKEN_SAVED_FILE)\n",
    "\n",
    "friends_url = \"https://kapi.kakao.com/v1/api/talk/friends\"\n",
    "\n",
    "headers = {\n",
    "    \"Authorization\": \"Bearer \" + tokens['access_token']\n",
    "}\n",
    "\n",
    "res = json.loads(requests.get(friends_url, headers=headers).text)\n",
    "\n",
    "print(type(res))\n",
    "print(res)"
   ]
  },
  {
   "cell_type": "code",
   "execution_count": 9,
   "id": "9288a2a3",
   "metadata": {},
   "outputs": [
    {
     "name": "stdout",
     "output_type": "stream",
     "text": [
      "[]\n"
     ]
    },
    {
     "ename": "IndexError",
     "evalue": "list index out of range",
     "output_type": "error",
     "traceback": [
      "\u001b[0;31m---------------------------------------------------------------------------\u001b[0m",
      "\u001b[0;31mIndexError\u001b[0m                                Traceback (most recent call last)",
      "Input \u001b[0;32mIn [9]\u001b[0m, in \u001b[0;36m<cell line: 4>\u001b[0;34m()\u001b[0m\n\u001b[1;32m      1\u001b[0m friends_list \u001b[38;5;241m=\u001b[39m res\u001b[38;5;241m.\u001b[39mget(\u001b[38;5;124m\"\u001b[39m\u001b[38;5;124melements\u001b[39m\u001b[38;5;124m\"\u001b[39m)\n\u001b[1;32m      2\u001b[0m \u001b[38;5;28mprint\u001b[39m(friends_list)\n\u001b[0;32m----> 4\u001b[0m fid \u001b[38;5;241m=\u001b[39m \u001b[43mfriends_list\u001b[49m\u001b[43m[\u001b[49m\u001b[38;5;241;43m0\u001b[39;49m\u001b[43m]\u001b[49m\u001b[38;5;241m.\u001b[39mget(\u001b[38;5;124m\"\u001b[39m\u001b[38;5;124muuid\u001b[39m\u001b[38;5;124m\"\u001b[39m)\n\u001b[1;32m      5\u001b[0m \u001b[38;5;28mprint\u001b[39m(fid)\n",
      "\u001b[0;31mIndexError\u001b[0m: list index out of range"
     ]
    }
   ],
   "source": [
    "friends_list = res.get(\"elements\")\n",
    "print(friends_list)\n",
    "\n",
    "fid = friends_list[0].get(\"uuid\")\n",
    "print(fid)"
   ]
  },
  {
   "cell_type": "code",
   "execution_count": null,
   "id": "114fddbe",
   "metadata": {},
   "outputs": [],
   "source": []
  }
 ],
 "metadata": {
  "kernelspec": {
   "display_name": "Python 3 (ipykernel)",
   "language": "python",
   "name": "python3"
  },
  "language_info": {
   "codemirror_mode": {
    "name": "ipython",
    "version": 3
   },
   "file_extension": ".py",
   "mimetype": "text/x-python",
   "name": "python",
   "nbconvert_exporter": "python",
   "pygments_lexer": "ipython3",
   "version": "3.9.12"
  }
 },
 "nbformat": 4,
 "nbformat_minor": 5
}
