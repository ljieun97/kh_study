{
 "cells": [
  {
   "cell_type": "code",
   "execution_count": 1,
   "id": "0061c65b",
   "metadata": {},
   "outputs": [],
   "source": [
    "from flask import Flask, url_for, request, jsonify\n",
    "from flask_cors import CORS, cross_origin\n",
    "\n",
    "import json\n",
    "\n",
    "from email.mime.multipart import MIMEMultipart\n",
    "from email.mime.image import MIMEImage\n",
    "from email.mime.audio import MIMEAudio\n",
    "from email.mime.text import MIMEText\n",
    "from email.mime.base import MIMEBase\n",
    "\n",
    "import requests\n",
    "import smtplib\n",
    "import pickle\n",
    "\n",
    "import datetime\n",
    "import os"
   ]
  },
  {
   "cell_type": "code",
   "execution_count": 2,
   "id": "3d056fa4",
   "metadata": {},
   "outputs": [],
   "source": [
    "KAKAO_TOKEN_SAVED_FILE = \"kakao_msg/kakao_token.json\"\n",
    "NAVER_USER_DATA_SAVED_FILE = \"naver/account\"\n",
    "\n",
    "def load_tokens(filename):\n",
    "    with open(filename) as fp:\n",
    "        tokens = json.load(fp)\n",
    "        \n",
    "    return tokens"
   ]
  },
  {
   "cell_type": "code",
   "execution_count": 3,
   "id": "a6b896c5",
   "metadata": {},
   "outputs": [],
   "source": [
    "def send_email(smtp_info, naver_user_info, msg):\n",
    "    with smtplib.SMTP(smtp_info['smtp_server'], smtp_info[\"smtp_port\"]) as server:\n",
    "        server.starttls()\n",
    "        \n",
    "        server.login(naver_user_info[\"smtp_user_id\"], naver_user_info[\"smtp_user_pw\"])\n",
    "        \n",
    "        res = server.sendmail(msg[\"from\"], msg[\"to\"], msg.as_string())\n",
    "        \n",
    "        if not res:\n",
    "            print(\"이메일 전송 성공\")\n",
    "        else:\n",
    "            print(res)\n",
    "            \n",
    "def make_multipart(msg_dict):\n",
    "    multi = MIMEMultipart(_subtype = 'mixed')\n",
    "    \n",
    "    for key, value in msg_dict.items():\n",
    "        if key == 'image':\n",
    "            with open(value['filename'], 'rb') as fp:\n",
    "                msg = MIMEImage(fp.read(), _subtype = value['subtype'])\n",
    "                \n",
    "        msg.add_header('Content-Disposition', 'attachment', filename = os.path.basename(value['filename']))\n",
    "        \n",
    "        multi.attach(msg)\n",
    "        \n",
    "    return multi"
   ]
  },
  {
   "cell_type": "code",
   "execution_count": null,
   "id": "20b60c74",
   "metadata": {},
   "outputs": [
    {
     "name": "stdout",
     "output_type": "stream",
     "text": [
      " * Serving Flask app \"__main__\" (lazy loading)\n",
      " * Environment: production\n",
      "\u001b[31m   WARNING: This is a development server. Do not use it in a production deployment.\u001b[0m\n",
      "\u001b[2m   Use a production WSGI server instead.\u001b[0m\n",
      " * Debug mode: off\n"
     ]
    },
    {
     "name": "stderr",
     "output_type": "stream",
     "text": [
      " * Running on http://127.0.0.1:5000/ (Press CTRL+C to quit)\n"
     ]
    },
    {
     "name": "stdout",
     "output_type": "stream",
     "text": [
      "카카오톡 메시지 전송 완료\n"
     ]
    },
    {
     "name": "stderr",
     "output_type": "stream",
     "text": [
      "127.0.0.1 - - [25/May/2022 16:23:25] \"GET /order-test HTTP/1.1\" 200 -\n",
      "127.0.0.1 - - [25/May/2022 16:23:25] \"GET /images/icons/gear.png HTTP/1.1\" 404 -\n"
     ]
    },
    {
     "name": "stdout",
     "output_type": "stream",
     "text": [
      "이메일 전송 성공\n"
     ]
    }
   ],
   "source": [
    "app = Flask(__name__)\n",
    "CORS(app)\n",
    "\n",
    "@app.route('/order-test', methods = ['GET'])\n",
    "def order_test(): #카톡보내는거 이메일보내는거 다 분리해야 좋음\n",
    "    tokens = load_tokens(KAKAO_TOKEN_SAVED_FILE)\n",
    "\n",
    "    f = open(NAVER_USER_DATA_SAVED_FILE, 'rb')\n",
    "    naver_user_info = pickle.load(f)\n",
    "    f.close()\n",
    "    \n",
    "    url = \"https://kapi.kakao.com/v2/api/talk/memo/default/send\"\n",
    "    \n",
    "    headers = {\n",
    "        \"Authorization\": \"Bearer \" + tokens['access_token']\n",
    "    }\n",
    "    \n",
    "    msg = \"주문이 완료되었습니다!\\n구매자: params로 받아온 Id, 결제금액: Params로 받아온 금액\"\n",
    "    \n",
    "    data = {\n",
    "        \"template_object\": json.dumps({\n",
    "            \"object_type\": \"text\",\n",
    "            \"text\": msg,\n",
    "            \"link\": {\n",
    "                \"web_url\": \"https://www.naver.com\"\n",
    "            }\n",
    "        })\n",
    "    }\n",
    "    \n",
    "    response = requests.post(url, headers=headers, data=data)\n",
    "\n",
    "    if response.status_code != 200:\n",
    "        print(\"에러!\")\n",
    "        \n",
    "    print(\"카카오톡 메시지 전송 완료\")\n",
    "    \n",
    "    smtp_info = dict({\n",
    "        \"smtp_server\": \"smtp.naver.com\",\n",
    "        \"smtp_port\": 587\n",
    "    })\n",
    "    \n",
    "    msg_dict = {\n",
    "        'image': {\n",
    "            'maintype': 'image',\n",
    "            'subtype': 'jpg'\n",
    "        }\n",
    "    }\n",
    "    \n",
    "    title = \"xx물품의 결제가 완료되었습니다!\" #{0}.format 어쩌구로 처리\n",
    "    content = \"yy에서 xx를 구매하였습니다!\\n앞으로도 저희 yy를 많이 이용해주세요\"\n",
    "    sender = naver_user_info['smtp_user_id']\n",
    "    receiver = naver_user_info['smtp_user_id']\n",
    "    \n",
    "    msg = MIMEText(_text = content, _charset = 'utf-8')\n",
    "    msg_dict['image']['filename'] = 'image/test_1.jpg'\n",
    "    \n",
    "    multi = make_multipart(msg_dict)\n",
    "    \n",
    "    multi['Subject'] = title\n",
    "    multi['From'] = sender\n",
    "    multi['To'] = receiver\n",
    "    multi.attach(msg)\n",
    "    \n",
    "    send_email(smtp_info, naver_user_info, multi)\n",
    "    \n",
    "    return jsonify(\"카톡 메시지 및 이메일 전송 완료\")\n",
    "\n",
    "if __name__ == \"__main__\":\n",
    "    app.run()"
   ]
  },
  {
   "cell_type": "code",
   "execution_count": null,
   "id": "f8cd20a5",
   "metadata": {},
   "outputs": [],
   "source": []
  }
 ],
 "metadata": {
  "kernelspec": {
   "display_name": "Python 3 (ipykernel)",
   "language": "python",
   "name": "python3"
  },
  "language_info": {
   "codemirror_mode": {
    "name": "ipython",
    "version": 3
   },
   "file_extension": ".py",
   "mimetype": "text/x-python",
   "name": "python",
   "nbconvert_exporter": "python",
   "pygments_lexer": "ipython3",
   "version": "3.9.12"
  }
 },
 "nbformat": 4,
 "nbformat_minor": 5
}
