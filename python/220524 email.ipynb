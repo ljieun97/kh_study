{
 "cells": [
  {
   "cell_type": "code",
   "execution_count": 1,
   "id": "642cffd9",
   "metadata": {},
   "outputs": [],
   "source": [
    "from flask import Flask, url_for, request, jsonify, redirect, Response\n",
    "from flask_cors import CORS, cross_origin\n",
    "\n",
    "import json\n",
    "import requests\n",
    "import os\n",
    "#네이버메일 - 환경설정 - smtp 사용함 설정"
   ]
  },
  {
   "cell_type": "code",
   "execution_count": 2,
   "id": "dc036afc",
   "metadata": {},
   "outputs": [],
   "source": [
    "NAVER_USER_DATA_SAVED_FILE = \"naver/account\""
   ]
  },
  {
   "cell_type": "code",
   "execution_count": 3,
   "id": "3ffa808a",
   "metadata": {},
   "outputs": [],
   "source": [
    "import pickle\n",
    "\n",
    "naver_user_info = dict({\n",
    "    \"smtp_user_id\": \"\",\n",
    "    \"smtp_user_pw\": \"\"\n",
    "})\n",
    "\n",
    "f = open(NAVER_USER_DATA_SAVED_FILE, 'wb')\n",
    "pickle.dump(naver_user_info, f)\n",
    "f.close()"
   ]
  },
  {
   "cell_type": "code",
   "execution_count": 4,
   "id": "7e037190",
   "metadata": {},
   "outputs": [],
   "source": [
    "f = open(NAVER_USER_DATA_SAVED_FILE, 'rb')\n",
    "naver_user_info = pickle.load(f)\n",
    "f.close()"
   ]
  },
  {
   "cell_type": "code",
   "execution_count": 5,
   "id": "4ffc8893",
   "metadata": {},
   "outputs": [],
   "source": [
    "from email.mime.multipart import MIMEMultipart\n",
    "from email.mime.image import MIMEImage\n",
    "from email.mime.audio import MIMEAudio\n",
    "from email.mime.text import MIMEText\n",
    "from email.mime.base import MIMEBase"
   ]
  },
  {
   "cell_type": "code",
   "execution_count": 6,
   "id": "73aa2e37",
   "metadata": {},
   "outputs": [],
   "source": [
    "import smtplib\n",
    "\n",
    "def send_email(smtp_info, naver_user_info, msg):\n",
    "    with smtplib.SMTP(smtp_info['smtp_server'], smtp_info[\"smtp_port\"]) as server:\n",
    "        server.starttls()\n",
    "        \n",
    "        server.login(naver_user_info[\"smtp_user_id\"], naver_user_info[\"smtp_user_pw\"])\n",
    "        \n",
    "        res = server.sendmail(msg[\"from\"], msg[\"to\"], msg.as_string())\n",
    "        \n",
    "        if not res:\n",
    "            print(\"이메일 전송 성공\")\n",
    "        else:\n",
    "            print(res)"
   ]
  },
  {
   "cell_type": "code",
   "execution_count": 7,
   "id": "f16d8793",
   "metadata": {},
   "outputs": [],
   "source": [
    "def make_multipart(msg_dict):\n",
    "    multi = MIMEMultipart(_subtype = 'mixed')\n",
    "    \n",
    "    for key, value in msg_dict.items():\n",
    "        if key == 'image':\n",
    "            with open(value['filename'], 'rb') as fp:\n",
    "                msg = MIMEImage(fp.read(), _subtype = value['subtype'])\n",
    "                \n",
    "        msg.add_header('Content-Disposition', 'attachment', filename = os.path.basename(value['filename']))\n",
    "        \n",
    "        multi.attach(msg)\n",
    "        \n",
    "    return multi"
   ]
  },
  {
   "cell_type": "code",
   "execution_count": null,
   "id": "d2876d38",
   "metadata": {},
   "outputs": [
    {
     "name": "stdout",
     "output_type": "stream",
     "text": [
      " * Serving Flask app \"__main__\" (lazy loading)\n",
      " * Environment: production\n",
      "\u001b[31m   WARNING: This is a development server. Do not use it in a production deployment.\u001b[0m\n",
      "\u001b[2m   Use a production WSGI server instead.\u001b[0m\n",
      " * Debug mode: off\n"
     ]
    },
    {
     "name": "stderr",
     "output_type": "stream",
     "text": [
      " * Running on http://127.0.0.1:5000/ (Press CTRL+C to quit)\n",
      "127.0.0.1 - - [24/May/2022 18:15:10] \"GET /test-email HTTP/1.1\" 200 -\n",
      "127.0.0.1 - - [24/May/2022 18:15:10] \"GET /images/icons/gear.png HTTP/1.1\" 404 -\n"
     ]
    },
    {
     "name": "stdout",
     "output_type": "stream",
     "text": [
      "이메일 전송 성공\n"
     ]
    }
   ],
   "source": [
    "app = Flask(__name__)\n",
    "CORS(app)\n",
    "\n",
    "# http://127.0.0.1:5000/test-email\n",
    "@app.route('/test-email', methods=['GET'])\n",
    "def test_email():\n",
    "    smtp_info = dict({\n",
    "        \"smtp_server\": \"smtp.naver.com\",\n",
    "        \"smtp_port\": 587\n",
    "    })\n",
    "    \n",
    "    msg_dict = {\n",
    "        'image': {\n",
    "            'maintype': 'image',\n",
    "            'subtype': 'jpg'\n",
    "        }\n",
    "    }\n",
    "    \n",
    "    title = \"첨부파일이 날라간드아!\"\n",
    "    content = \"간드아!\"\n",
    "    sender = naver_user_info['smtp_user_id']\n",
    "    receiver = naver_user_info['smtp_user_id']\n",
    "    \n",
    "    msg = MIMEText(_text = content, _charset = 'utf-8')\n",
    "    msg_dict['image']['filename'] = 'image/test_1.jpg'\n",
    "    \n",
    "    multi = make_multipart(msg_dict)\n",
    "    \n",
    "    multi['Subject'] = title\n",
    "    multi['From'] = sender\n",
    "    multi['To'] = receiver\n",
    "    multi.attach(msg)\n",
    "    \n",
    "    send_email(smtp_info, naver_user_info, multi)\n",
    "    \n",
    "    return jsonify(\"email send 완료!\")\n",
    "    \n",
    "if __name__ == \"__main__\":\n",
    "    app.run()"
   ]
  },
  {
   "cell_type": "code",
   "execution_count": null,
   "id": "7a60df72",
   "metadata": {},
   "outputs": [],
   "source": []
  }
 ],
 "metadata": {
  "kernelspec": {
   "display_name": "Python 3 (ipykernel)",
   "language": "python",
   "name": "python3"
  },
  "language_info": {
   "codemirror_mode": {
    "name": "ipython",
    "version": 3
   },
   "file_extension": ".py",
   "mimetype": "text/x-python",
   "name": "python",
   "nbconvert_exporter": "python",
   "pygments_lexer": "ipython3",
   "version": "3.9.12"
  }
 },
 "nbformat": 4,
 "nbformat_minor": 5
}
