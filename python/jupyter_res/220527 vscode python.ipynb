{
 "cells": [
  {
   "cell_type": "code",
   "execution_count": 2,
   "id": "07882028",
   "metadata": {},
   "outputs": [
    {
     "name": "stdout",
     "output_type": "stream",
     "text": [
      "['/Users/ljieun/Desktop/khweb19/Homework/jieunLee/python/jupyter', '/Users/ljieun/opt/anaconda3/lib/python39.zip', '/Users/ljieun/opt/anaconda3/lib/python3.9', '/Users/ljieun/opt/anaconda3/lib/python3.9/lib-dynload', '', '/Users/ljieun/opt/anaconda3/lib/python3.9/site-packages', '/Users/ljieun/opt/anaconda3/lib/python3.9/site-packages/aeosa', '../Untitled Folder', '../python_components']\n",
      "I'm from parent dir in def parent test_res\n"
     ]
    }
   ],
   "source": [
    "import sys\n",
    "#참조경로\n",
    "sys.path.append(\"../python_components\")\n",
    "\n",
    "#참조경로에있는 파이썬 모듈 내의 test_res 활용하도록 Import\n",
    "from parent import test_res\n",
    "\n",
    "print(sys.path)\n",
    "\n",
    "test_res()"
   ]
  },
  {
   "cell_type": "code",
   "execution_count": null,
   "id": "ab3b416f",
   "metadata": {},
   "outputs": [],
   "source": []
  }
 ],
 "metadata": {
  "kernelspec": {
   "display_name": "Python 3 (ipykernel)",
   "language": "python",
   "name": "python3"
  },
  "language_info": {
   "codemirror_mode": {
    "name": "ipython",
    "version": 3
   },
   "file_extension": ".py",
   "mimetype": "text/x-python",
   "name": "python",
   "nbconvert_exporter": "python",
   "pygments_lexer": "ipython3",
   "version": "3.9.12"
  }
 },
 "nbformat": 4,
 "nbformat_minor": 5
}
